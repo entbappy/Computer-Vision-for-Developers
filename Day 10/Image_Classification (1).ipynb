{
  "nbformat": 4,
  "nbformat_minor": 0,
  "metadata": {
    "colab": {
      "provenance": [],
      "gpuType": "T4"
    },
    "kernelspec": {
      "name": "python3",
      "display_name": "Python 3"
    },
    "language_info": {
      "name": "python"
    },
    "accelerator": "GPU"
  },
  "cells": [
    {
      "cell_type": "code",
      "execution_count": 1,
      "metadata": {
        "colab": {
          "base_uri": "https://localhost:8080/"
        },
        "id": "xF4ZLhAF_1Zm",
        "outputId": "fb414dfd-1849-4efe-c4a7-8bd8ddd670bb"
      },
      "outputs": [
        {
          "output_type": "stream",
          "name": "stdout",
          "text": [
            "Thu May 15 16:58:38 2025       \n",
            "+-----------------------------------------------------------------------------------------+\n",
            "| NVIDIA-SMI 550.54.15              Driver Version: 550.54.15      CUDA Version: 12.4     |\n",
            "|-----------------------------------------+------------------------+----------------------+\n",
            "| GPU  Name                 Persistence-M | Bus-Id          Disp.A | Volatile Uncorr. ECC |\n",
            "| Fan  Temp   Perf          Pwr:Usage/Cap |           Memory-Usage | GPU-Util  Compute M. |\n",
            "|                                         |                        |               MIG M. |\n",
            "|=========================================+========================+======================|\n",
            "|   0  Tesla T4                       Off |   00000000:00:04.0 Off |                    0 |\n",
            "| N/A   35C    P8             10W /   70W |       0MiB /  15360MiB |      0%      Default |\n",
            "|                                         |                        |                  N/A |\n",
            "+-----------------------------------------+------------------------+----------------------+\n",
            "                                                                                         \n",
            "+-----------------------------------------------------------------------------------------+\n",
            "| Processes:                                                                              |\n",
            "|  GPU   GI   CI        PID   Type   Process name                              GPU Memory |\n",
            "|        ID   ID                                                               Usage      |\n",
            "|=========================================================================================|\n",
            "|  No running processes found                                                             |\n",
            "+-----------------------------------------------------------------------------------------+\n"
          ]
        }
      ],
      "source": [
        "!nvidia-smi"
      ]
    },
    {
      "cell_type": "code",
      "source": [
        "!unzip /content/Bones-data.zip"
      ],
      "metadata": {
        "colab": {
          "base_uri": "https://localhost:8080/"
        },
        "id": "MZVA6W6kAEf2",
        "outputId": "2231e99e-d419-4874-9605-6befbebca8ff"
      },
      "execution_count": 2,
      "outputs": [
        {
          "output_type": "stream",
          "name": "stdout",
          "text": [
            "Archive:  /content/Bones-data.zip\n",
            "   creating: Bones-data/\n",
            "   creating: Bones-data/test/\n",
            "   creating: Bones-data/test/Oblique fracture/\n",
            "  inflating: Bones-data/test/Oblique fracture/0-_gallery_jpeg.rf.b3170266ea6b6d03bfb4ae5991df98ce.jpg  \n",
            "  inflating: Bones-data/test/Oblique fracture/10-1055-b-002-85516_c023_f003-1_jpg.rf.a2cb46deb0263fc9290f45ee328c632.jpg  \n",
            "  inflating: Bones-data/test/Oblique fracture/10-1055-b-002-85516_c023_f003-1_jpg.rf.a2cb46deb0263fc92980f45ee328c632.jpg  \n",
            "  inflating: Bones-data/test/Oblique fracture/1000_F_264769365_u927dRxrrx1fi4rlR1VWif9LcGeJwv4h_jpg.rf.b2d149cb90da63cbc49ec73e82bf0935.jpg  \n",
            "  inflating: Bones-data/test/Oblique fracture/119913828-radiography-with-oblique-fibula-fracture_jpg.rf.8f0f4e48c3c959ca7b930e3cba8fafd0.jpg  \n",
            "  inflating: Bones-data/test/Oblique fracture/220px-MalletFinger-PNG_jpg.rf.8eb8b19e344b2ab4d48b4cbeda7b4a80.jpg  \n",
            "  inflating: Bones-data/test/Oblique fracture/2624240dc461d0c5d2d7fb7e16b3065c_jpg.rf.628b0bc8b7bb91626b4835d7b36293b6.jpg  \n",
            "  inflating: Bones-data/test/Oblique fracture/43390tn_jpg.rf.e82c12a328a56cc66d5d828e638324be.jpg  \n",
            "  inflating: Bones-data/test/Oblique fracture/493071_0_En_42-1_Fig9_HTML_jpg.rf.5df14a5beb171c842378a962949b7ac6.jpg  \n",
            "  inflating: Bones-data/test/Oblique fracture/493071_0_En_42-1_Fig9_HTML_jpg.rf.5df14a5beb171c842378a96949b7ac6.jpg  \n",
            "  inflating: Bones-data/test/Oblique fracture/493071_0_En_4_Fig9_HTML_jpg.rf.5d14a5beb171c2378a96949b7ac6.jpg  \n",
            "  inflating: Bones-data/test/Oblique fracture/493071_0_En_4_Fig9_HTML_jpg.rf.5d14a5beb171c842378a96949b7ac6.jpg  \n",
            "  inflating: Bones-data/test/Oblique fracture/493071_0_En_4_Fig9_HTML_jpg.rf.5df14a5beb171c842378a96949b7ac6.jpg  \n",
            "  inflating: Bones-data/test/Oblique fracture/6355f23b1cf9e11781e91f6af08293_jpg.rf.b4349082bc63bd7f3623633c67cebe25.jpg  \n",
            "  inflating: Bones-data/test/Oblique fracture/A-radiograph-shows-completely-displaced-short-oblique-fracture-of-the-right-femur-shaft_png.rf.ccee1b8ade24a3ca729780cd9563cf26.jpg  \n",
            "  inflating: Bones-data/test/Oblique fracture/ankle20per4_jpg.rf.c2cc3850df30ebbc01f5e97b7d812ea0.jpg  \n",
            "   creating: Bones-data/test/Spiral Fracture/\n",
            "  inflating: Bones-data/test/Spiral Fracture/0-_jumbo_jpeg.rf.7645898c0465d33bcd71ee0ddb847e0a.jpg  \n",
            "  inflating: Bones-data/test/Spiral Fracture/110001_jumbo_jpeg.rf.94b56c0454a24891c46456a32af0129c.jpg  \n",
            "  inflating: Bones-data/test/Spiral Fracture/192811243_jpg.rf.93989b0917199eb629709b79bf516da9.jpg  \n",
            "  inflating: Bones-data/test/Spiral Fracture/247_2019_4591_Fig6_HTML_jpg.rf.1dc947109f035e160a9c7d7071e08.jpg  \n",
            "  inflating: Bones-data/test/Spiral Fracture/247_2019_4591_FL_jpg.rf.1035e160a9c7d7071e08.jpg  \n",
            "  inflating: Bones-data/test/Spiral Fracture/247_2019_4591_FL_jpg.rf.1dc947109f035e160a9c7d7071e08.jpg  \n",
            "  inflating: Bones-data/test/Spiral Fracture/3-s2-0-B978012386456706706X-f06706-04-9780123864567_jpg.rf.dd278033e65199fdc2d4d2eca2c01f7b.jpg  \n",
            "  inflating: Bones-data/test/Spiral Fracture/411477_jpg.rf.c1f2d0daec00e5d81484533bb0785af9.jpg  \n",
            "  inflating: Bones-data/test/Spiral Fracture/421220_jpg.rf.1231cb18431107345b2398be88e0e946.jpg  \n",
            "  inflating: Bones-data/test/Spiral Fracture/590_2014_1411_Fig1_HTc234c5605fa8336a4d522e89d48.jpg  \n",
            "  inflating: Bones-data/test/Spiral Fracture/590_2014_1411_Fig1_HTML_jpg.rf.9d4ebc234c5605fa8336a4d522e89d48.jpg  \n",
            "  inflating: Bones-data/test/Spiral Fracture/7590tn_jpg.rf.ffbf84219c6752e6e48c797746742f3b.jpg  \n",
            "   creating: Bones-data/train/\n",
            "   creating: Bones-data/train/Oblique fracture/\n",
            "  inflating: Bones-data/train/Oblique fracture/-view-with-finger-splint-for-diagnostic-fracture-and-g-arthritis-2C3N97K_jpg.rf.ac8fcc36dc30905cfbc2030283d.jpg  \n",
            "  inflating: Bones-data/train/Oblique fracture/-view-with-finger-splint-for-diagnostic-fracture-and-gouty-arthritis-2C3N97K_jpg.rf.ac8fcc36dc30905cfbc2030283d.jpg  \n",
            "  inflating: Bones-data/train/Oblique fracture/b09d1b20e7e311ea881f091bea3146cf-1_png.rf.4f989bc3a508d12a256d5870ee3f8fa8.jpg  \n",
            "  inflating: Bones-data/train/Oblique fracture/bimalleolar_jpg.rf.4f2912fba252cb6f758cb4e814343631.jpg  \n",
            "  inflating: Bones-data/train/Oblique fracture/C7-FF2-1_jpg.rf.62c4943b03b06448c1473d60b16bc7db.jpg  \n",
            "  inflating: Bones-data/train/Oblique fracture/Case1_jpg.rf.2439c012d5bcdfed05d5e4110b7f.jpg  \n",
            "  inflating: Bones-data/train/Oblique fracture/Case1_jpg.rf.2439c012d5bcdfed05d5e417f.jpg  \n",
            "  inflating: Bones-data/train/Oblique fracture/Case1_jpg.rf.2439c012d5bcdfed05d5e47f.jpg  \n",
            "  inflating: Bones-data/train/Oblique fracture/cow218arr_jpg.rf.4f53079b9f69dc3b966b05e6a1a7144.jpg  \n",
            "  inflating: Bones-data/train/Oblique fracture/cow218arr_jpg.rf.4f53079b9f6dc3b966b056a1a7144.jpg  \n",
            "  inflating: Bones-data/train/Oblique fracture/cow218arr_jpg.rf.4f53079b9f6dc3b966b05e6a1a7144.jpg  \n",
            "  inflating: Bones-data/train/Oblique fracture/dd530760e7e311ea945f4f8376e27496-2_png.rf.2016418903aff92b1325e4debf48dc7a.jpg  \n",
            "  inflating: Bones-data/train/Oblique fracture/f55f0da6134797c646321056770190_gallery_jpg.rf.5e8c79979efd0328ec5b08fd07e766d2.jpg  \n",
            "  inflating: Bones-data/train/Oblique fracture/Fig-A6-Fracture-X-ray-image-of-an-oblique-fracture-of-the-left-humerus_png.rf.f967c4e5fabfed20ba318f7ed12a46b8.jpg  \n",
            "  inflating: Bones-data/train/Oblique fracture/fracture-interpretation-for-medical-students-40-320_jpg.rf.b4d5e7fefb7fbf3ad5f077af3d2d6582.jpg  \n",
            "  inflating: Bones-data/train/Oblique fracture/fracture-interpretation-for-medical-students-48-320_jpg.rf.ba96e0e11ccfd07774ccd92030d7166a.jpg  \n",
            "  inflating: Bones-data/train/Oblique fracture/g03nv35g19b_jpeg.rf.8af1347a3bfacb730c238fca772a58ce.jpg  \n",
            "  inflating: Bones-data/train/Oblique fracture/Howtodescribefractureonx-ray_jpg.rf.04d93dce43e69178faab20529886ef2c.jpg  \n",
            "  inflating: Bones-data/train/Oblique fracture/IM000003_jpg.rf.4e91fa40fabd9c23137a68153bc8f94a.jpg  \n",
            "  inflating: Bones-data/train/Oblique fracture/image-1_png.rf.1c5d3fb41a5b7377863e99252bfaf4d2.jpg  \n",
            "  inflating: Bones-data/train/Oblique fracture/image13_jpeg.rf.5057006188320b317ad2155014fb6e8f.jpg  \n",
            "  inflating: Bones-data/train/Oblique fracture/image15_jpeg.rf.0f97ab8f9da6371a898713f3f0bc1d01.jpg  \n",
            "  inflating: Bones-data/train/Oblique fracture/image16_jpeg.rf.60112aef3d78a6c982d0920452278809.jpg  \n",
            "  inflating: Bones-data/train/Oblique fracture/image17_jpeg.rf.504fb51c6b6b9d8befa5567e711b1f88.jpg  \n",
            "  inflating: Bones-data/train/Oblique fracture/image19_jpeg.rf.e33a1ad0ffe9228f2a5f8073e127bd6b.jpg  \n",
            "  inflating: Bones-data/train/Oblique fracture/image26_jpeg.rf.7ed677bbd388f3474767eeaaac3c82d6.jpg  \n",
            "  inflating: Bones-data/train/Oblique fracture/image27_jpeg.rf.aa33d8717bcad1b76daca85ce7c4b109.jpg  \n",
            "  inflating: Bones-data/train/Oblique fracture/image29_jpeg.rf.6d4d72f18676ac51a5fec6b1557.jpg  \n",
            "  inflating: Bones-data/train/Oblique fracture/image29_jpeg.rf.6d4d72f1e48676ac51a5fec6b1557.jpg  \n",
            "  inflating: Bones-data/train/Oblique fracture/image2lateralxrayfibularz11_1220081_jpg.rf.a4ab9064562d450af6cc3cc6f569bbb0.jpg  \n",
            "  inflating: Bones-data/train/Oblique fracture/image2_jpeg.rf.ec95dc5f2c7fdd358100b39408b45f9f.jpg  \n",
            "  inflating: Bones-data/train/Oblique fracture/image31_jpeg.rf.49c6015ae65879c6551ec9e802c6c.jpg  \n",
            "  inflating: Bones-data/train/Oblique fracture/image31_jpeg.rf.49c6015ae65879ca6c6551ec9e802c6c.jpg  \n",
            "  inflating: Bones-data/train/Oblique fracture/image32_jpeg.rf.d32f38806678d55406a21094627433e5.jpg  \n",
            "  inflating: Bones-data/train/Oblique fracture/image32_jpeg.rf.d32f38806678d55406a21627433e5.jpg  \n",
            "  inflating: Bones-data/train/Oblique fracture/image3_jpeg.rf.a4b675eaa9ebcf08192178e58ccc6893.jpg  \n",
            "  inflating: Bones-data/train/Oblique fracture/image4_jpeg.rf.f17e6390662f4e352f8bc01a006c6da6.jpg  \n",
            "  inflating: Bones-data/train/Oblique fracture/image5_jpeg.rf.8c52953df7f34e8e3f6070991c56928b.jpg  \n",
            "  inflating: Bones-data/train/Oblique fracture/image6_jpeg.rf.03c8938004852182bf149be3921d5864.jpg  \n",
            "  inflating: Bones-data/train/Oblique fracture/image7_jpeg.rf.a26c282b5e2e1ba9a049053fc5b18b6a.jpg  \n",
            "  inflating: Bones-data/train/Oblique fracture/image8_jpeg.rf.374d101e7fb6f29e562b4f6867e2fd8e.jpg  \n",
            "  inflating: Bones-data/train/Oblique fracture/images2_jpg.rf.6b2484bc1ae12da01bf9c2b63ec33924.jpg  \n",
            "  inflating: Bones-data/train/Oblique fracture/image_jpeg.rf.e8a17e76a0455785d575a9165aaf5873.jpg  \n",
            "  inflating: Bones-data/train/Oblique fracture/Initial-imaging-a-X-ray-of-the-left-lower-extremity-shows-a-fracture_png.rf.8b6c429de17d94b09ce484bedf753804.jpg  \n",
            "  inflating: Bones-data/train/Oblique fracture/Initial-radiographs-Oblique-spiral-fracture-is-observed-in-the-diaphysis-of-tibia_jpg.rf.9658444cad8609971c790aab2d8dced0.jpg  \n",
            "  inflating: Bones-data/train/Oblique fracture/Inked220px-MalletFinger-Ppg.rf.8eb8b19e344b2ab4d48b4cbeda7b4a80_LI.jpg  \n",
            "  inflating: Bones-data/train/Oblique fracture/Inkedfracture-interpretation-for-medical-students-48-320_jpg.rf.ba96e0e11ccfd0ccd92030d7166a_LI.jpg  \n",
            "  inflating: Bones-data/train/Oblique fracture/InkedInitial-imaging-a-X-ray-of-the-left-lower-extremity-shows-a-closed-oblique-fracture_png.rf.8b6c429de17d94b09ce484bedf753804_LI.jpg  \n",
            "  inflating: Bones-data/train/Oblique fracture/Inkedoblique-fracture-lower-tibia-246x300_jpg.rf.69fe907d7d2e9cfb48_LI.jpg  \n",
            "  inflating: Bones-data/train/Oblique fracture/Inkedx-ray-image-foot-oblique-view-show-toe-hell-fracture-53837746_jpg.rf.da042ab745aec3b96d2f0b10e7ab3faa_LI.jpg  \n",
            "  inflating: Bones-data/train/Oblique fracture/Inkedx-ray-image-of-right-hand-oblique-viwe-showing-tumd-bone-fracture-700-214015347_jpg.rf.0accf0b72404f8af437d4ce31a040385_LI.jpg  \n",
            "  inflating: Bones-data/train/Oblique fracture/ital-sabu-raijua-regency-east-nusa-tenggara-indonesia-photo-taken-1839626560_jpg.rf.07200c503ecbc0ba18962759d4d8a197.jpg  \n",
            "  inflating: Bones-data/train/Oblique fracture/oblique-fracture-tibia-244x300_jpg.rf.718f4c740fc3d276aeaa395e6563dc58.jpg  \n",
            "  inflating: Bones-data/train/Oblique fracture/oblique-fracture-tibia-244x300_jpg.rf.718f4c740fc3d276aeaa396563dc58.jpg  \n",
            "  inflating: Bones-data/train/Oblique fracture/proximal__phalanx__fx_jpg.54b60599e7037336959ff9365f078e.jpg  \n",
            "  inflating: Bones-data/train/Oblique fracture/proximal__phalanx__fx_jpg.rf.54b60599e7037336959ff9365f078e.jpg  \n",
            "  inflating: Bones-data/train/Oblique fracture/Right-humerus-X-ray-shows-oblique-fracture-of-humeral-shaft-with-a-medial-butterfly_png.rf.e5230bf0700b6fca6078bb7be6b3717b.jpg  \n",
            "  inflating: Bones-data/train/Oblique fracture/sabu-raijua-general-hospital-regency-260nw-1839626560_jpg.rf.1ce51da913f3991295335896efe3ff35.jpg  \n",
            "  inflating: Bones-data/train/Oblique fracture/T1511F02_Fig01_j922f4a590bcbc55.jpg  \n",
            "  inflating: Bones-data/train/Oblique fracture/T1511F02_Fig01_j92ae5d2f4a590bcbc55.jpg  \n",
            "  inflating: Bones-data/train/Oblique fracture/transverse_fracture-600x338_jpg.rf.d0b5aee592b805b3b0e69f5a9b0743dc.jpg  \n",
            "  inflating: Bones-data/train/Oblique fracture/v1c19b_jpg.rf.81cf4bd329a28b5ba63dd9d7c23764ab.jpg  \n",
            "  inflating: Bones-data/train/Oblique fracture/x-ray-hand-ap-oblique-fracture-mid-shaft-rt-2nd-metacapal-bone-soft-tissue-swelling_34251-59_jpg.rf.54202a7e1dd6d9c7e9b9f0810e0975f9.jpg  \n",
            "  inflating: Bones-data/train/Oblique fracture/x-ray-hand-ap-oblique-post-fix-fracture-second-metacarpol-bone-with-plate-screws_34251-60_jpg.rf.f9541a445c14fdf0a4c84483d276cf25.jpg  \n",
            "  inflating: Bones-data/train/Oblique fracture/x-ray-of-fracture-tibia_jpg.rf.ff90c50d73736498ae444633b797a853.jpg  \n",
            "  inflating: Bones-data/train/Oblique fracture/x-ray-proximal-phalanx-fractures-child-AMM429_jpg.rf.e8aa2a630d9730c92c2b30bf4ce90bb1.jpg  \n",
            "  inflating: Bones-data/train/Oblique fracture/X-rays-showing-displaced-oblique-fracture-of-right-middle-finger-distal-phalanx-a-b_Q640_jpg.rf.9b6221039535a950feb06d8456c38aa2.jpg  \n",
            "  inflating: Bones-data/train/Oblique fracture/xray-image-foot-ap-oblique-600w-267976154_jpg.rf.54b9ad550bab02b311438c863a3e1737.jpg  \n",
            "  inflating: Bones-data/train/Oblique fracture/XRAY20-20Obturator20Oblique20-20Posterior20wall20fx_moved_jpg.rf.d80991ac87370262d0290e03af5817e2.jpg  \n",
            "   creating: Bones-data/train/Spiral Fracture/\n",
            "  inflating: Bones-data/train/Spiral Fracture/3732968824_e910c1e03d_c_jpg.rf.4fbfb0cfb1a4323067fe589611d84981.jpg  \n",
            "  inflating: Bones-data/train/Spiral Fracture/a-AP-X-ray-of-shaft-of-humerus-spiral-fracture-b-lateral-X-ray-of-humerus-shaft_Q640_jpg.rf.95098e2ff06610ceeb70463198071ea0.jpg  \n",
            "  inflating: Bones-data/train/Spiral Fracture/A-Plain-radiograph-shaft-and-multiple-scattered_Q640_jpg.rf.7d83c56445dd5e9a7334a7d49569fdda.jpg  \n",
            "  inflating: Bones-data/train/Spiral Fracture/A-Plain-radiograph-spiral-in-left-femoral-shaft-and-multiple-scattered_Q640_jpg.rf.7d83c56445dd5e9a7334a7d49569fdda.jpg  \n",
            "  inflating: Bones-data/train/Spiral Fracture/A-Radiograph-shows-a-spiral-fracture-of-humeral-diaphyseal-segment-AO-cl-12A1-B-Good_png.rf.6ba5de62185d0377399671c1e6d1fb0d.jpg  \n",
            "  inflating: Bones-data/train/Spiral Fracture/al-fracture-of-distal-fibula-at-level-of-syndesmosis-with-minimal-1286218351_jpg.rf.33383cf09fd6c5df2f71c2eb9c417731.jpg  \n",
            "  inflating: Bones-data/train/Spiral Fracture/arm-spiral-fracture_jpg.rf.367297f42899fada579c5152f51c9ec2.jpg  \n",
            "  inflating: Bones-data/train/Spiral Fracture/broken-humerus-xray-showing-compound-260nw-666295192_jpg.rf.f0dc1d9f84267947607311ec7d87f449.jpg  \n",
            "  inflating: Bones-data/train/Spiral Fracture/broken-humerus-xray-showing-compound-260nw-667702906_jpg.rf.6b73f3ee243d182700bdf2eff2f2fad2.jpg  \n",
            "  inflating: Bones-data/train/Spiral Fracture/C0072745-Spiral_fracture_of_the_hand_X-ray_jpg.rf.bd5a1827f4191761176db8c6d5e85707.jpg  \n",
            "  inflating: Bones-data/train/Spiral Fracture/c0393356-800px-wm_jpg.rf.394e4ad25b5ec7c0622cff322e542181.jpg  \n",
            "  inflating: Bones-data/train/Spiral Fracture/c0394402-800px-wm_jpg.rf.30b465723aff3c6062a04f64870b75e1.jpg  \n",
            "  inflating: Bones-data/train/Spiral Fracture/c0394403-800px-wm_jpg.rf.026fcf93f01750f862365f35fcdc9be2.jpg  \n",
            "  inflating: Bones-data/train/Spiral Fracture/ch23-1_jpg.rf.de610efd8b6a8ebf5bc3d05eb1d6864e.jpg  \n",
            "  inflating: Bones-data/train/Spiral Fracture/e5025a324f95b26770f89f95a065a6_jpg.rf.ece1ba8959ced95f8df2698ef6c5555a.jpg  \n",
            "  inflating: Bones-data/train/Spiral Fracture/edc79979e6badfe13921370f0ff0dc71_jpg.rf.0a0c6141ede74c387dc15eed56480bc4.jpg  \n",
            "  inflating: Bones-data/train/Spiral Fracture/fcb602796fda1d39daf55e1015e56e7d_jpg.rf.8ee708b1a09f173078a05138c996aa51.jpg  \n",
            "  inflating: Bones-data/train/Spiral Fracture/fig23-1_jpg.rf.179a6bb1d8bb14bd49b6f9247ecfe1d3.jpg  \n",
            "  inflating: Bones-data/train/Spiral Fracture/fig25-6_jpg.rf.39ed02f12ae0907297b50bdbed2c8937.jpg  \n",
            "  inflating: Bones-data/train/Spiral Fracture/fracture-tibia-242x300_jpg.rf.bd80b6904d8ea8638a621e5012dcf525.jpg  \n",
            "  inflating: Bones-data/train/Spiral Fracture/fracture1-PNG_jpg.rf.c356c4e1235524997476787e549cb42a.jpg  \n",
            "  inflating: Bones-data/train/Spiral Fracture/Howtodescribefractureonx-ray_jpg.rf.04d93dce43e69178faab20529886ef2c.jpg  \n",
            "  inflating: Bones-data/train/Spiral Fracture/Humerus_spiral_fracture_png.rf.40fb75aad8a2275b9d51a6d9b1041bbc.jpg  \n",
            "  inflating: Bones-data/train/Spiral Fracture/image11_jpeg.rf.c0dc27c3ac2644100e24e322e169ef81.jpg  \n",
            "  inflating: Bones-data/train/Spiral Fracture/image12_jpeg.rf.82b0cf0313c9a15432fa0f3ad9b8fad8.jpg  \n",
            "  inflating: Bones-data/train/Spiral Fracture/image17_jpeg.rf.d68b6dfb38a6cbfeec4ad3e484722720.jpg  \n",
            "  inflating: Bones-data/train/Spiral Fracture/image21_jpeg.rf.ba8d71a706dea1673b731323a1219a7e.jpg  \n",
            "  inflating: Bones-data/train/Spiral Fracture/image23_jpeg.rf.5b00c55f7624e0c889e402ddf5ee1914.jpg  \n",
            "  inflating: Bones-data/train/Spiral Fracture/image25_jpeg.rf.255d7013f3e64a06cff782467fd6063a.jpg  \n",
            "  inflating: Bones-data/train/Spiral Fracture/image26_jpeg.rf.b136aa1eeb4b2089daa60e63367966b4.jpg  \n",
            "  inflating: Bones-data/train/Spiral Fracture/image29_jpeg.rf.fa790c3f258afd479b9b994ecbd1c78d.jpg  \n",
            "  inflating: Bones-data/train/Spiral Fracture/image2_jpeg.rf.5ea676b2e01ff0234b147af30240abe8.jpg  \n",
            "  inflating: Bones-data/train/Spiral Fracture/image5_jpeg.rf.78a8f2b6c4fa9b8839c8cedbb576ed42.jpg  \n",
            "  inflating: Bones-data/train/Spiral Fracture/image6_jpeg.rf.df2fa03135b4262ad6dec8126e3896a0.jpg  \n",
            "  inflating: Bones-data/train/Spiral Fracture/image7_jpeg.rf.d11bed3acad372a3ea5031e3423f39f5.jpg  \n",
            "  inflating: Bones-data/train/Spiral Fracture/image9_jpeg.rf.30511dab046d686afe8c696f90c1e03e.jpg  \n",
            "  inflating: Bones-data/train/Spiral Fracture/images10_jpg.rf.c48b6a0c61c1f87f5691154c9dccac47.jpg  \n",
            "  inflating: Bones-data/train/Spiral Fracture/images11_jpg.rf.4074e948c222b66e5c3dd9fa888c9936.jpg  \n",
            "  inflating: Bones-data/train/Spiral Fracture/images12_jpg.rf.9d37cb8278ca2a9f4463de9c34102594.jpg  \n",
            "  inflating: Bones-data/train/Spiral Fracture/images13_jpg.rf.709d5617b0546656756edc6b59708a66.jpg  \n",
            "  inflating: Bones-data/train/Spiral Fracture/images15_jpg.rf.4f6b99cf5645f272a800451339b9e950.jpg  \n",
            "  inflating: Bones-data/train/Spiral Fracture/images16_jpg.rf.0eb5b4b3cdd9b94be44c7b3a07adddcf.jpg  \n",
            "  inflating: Bones-data/train/Spiral Fracture/images18_jpg.rf.f124bd32e0423021cdfeb44507075f93.jpg  \n",
            "  inflating: Bones-data/train/Spiral Fracture/images19_jpg.rf.49c36e344509365001d327223516f05b.jpg  \n",
            "  inflating: Bones-data/train/Spiral Fracture/images20_jpg.rf.1edb02c282bd8a993a486571dba82a30.jpg  \n",
            "  inflating: Bones-data/train/Spiral Fracture/images21_jpg.rf.c217a6c4eedb570177ac5f6343d3ae0e.jpg  \n",
            "  inflating: Bones-data/train/Spiral Fracture/images2_jpg.rf.a21a6639bab18fd8b92901866f24e8c3.jpg  \n",
            "  inflating: Bones-data/train/Spiral Fracture/images3_jpg.rf.867087966ee2106c7462017bad4e22c6.jpg  \n",
            "  inflating: Bones-data/train/Spiral Fracture/images4_jpg.rf.bc0c2494d769bc4d9c4373f8c70c74ca.jpg  \n",
            "  inflating: Bones-data/train/Spiral Fracture/images7_jpg.rf.912489bbf460a1013cd9274ef3cb8a63.jpg  \n",
            "  inflating: Bones-data/train/Spiral Fracture/images9_jpg.rf.9bdd8ba77e545bdd7edb097ab01161e7.jpg  \n",
            "  inflating: Bones-data/train/Spiral Fracture/image_jpeg.rf.6c82fa5135c6d3eff38fe8ba1d2ff7e1.jpg  \n",
            "  inflating: Bones-data/train/Spiral Fracture/JOrthopDisTraumatol_2020_3_3_116_305736_f2_jpg.rf.ac4dd6737bdd1de1e02fb014c52e79e1.jpg  \n",
            "  inflating: Bones-data/train/Spiral Fracture/leg-xray-showing-closed-spiral-260nw-1586443063_jpg.rf.6f2b0447a8ac974f0000efae7a34bb07.jpg  \n",
            "  inflating: Bones-data/train/Spiral Fracture/leg-xray_jpg.rf.09eadc62dfc64b071a132a80fa574213.jpg  \n",
            "  inflating: Bones-data/train/Spiral Fracture/Maisonneuve_fracture_Fibula-JPG_jpg.rf.56c8fcbb6a05401e12c747f35dfafc5a.jpg  \n",
            "  inflating: Bones-data/train/Spiral Fracture/placed-spiral-fracture-right-tibia-lower-leg-bone-ray-film-patient-225915648_jpg.rf.80182ff26fcd817cd744c4cc5c29c573.jpg  \n",
            "  inflating: Bones-data/train/Spiral Fracture/PruchaFig1e0f228cf67f39df1de4eb173c2acfd9.jpg  \n",
            "  inflating: Bones-data/train/Spiral Fracture/PruchaFig1e0f228cf67f39df1de4eb173c2cfd9.jpg  \n",
            "  inflating: Bones-data/train/Spiral Fracture/Radiograph-of-the-left-upper-arm-spiral-fracture-of-the-humeral-shaft-in-an-infant_png.rf.41f29ff54dec1241869c8c2b0691c903.jpg  \n",
            "  inflating: Bones-data/train/Spiral Fracture/Radiographic-image-of-a-spiral-fracture-in-humerus-shaft_png.rf.3853760b930569c51970d37fd01e6e31.jpg  \n",
            "  inflating: Bones-data/train/Spiral Fracture/RIGHT_leg_jumbo_jpeg.rf.5c79a192709e4e90f860d7e0a42fd25f.jpg  \n",
            "  inflating: Bones-data/train/Spiral Fracture/shoulder-x-ray-spiral-fracture-of-humerus-AMM26C_jpg.rf.f819cf67ba0946419d66c26e1ef0a615.jpg  \n",
            "  inflating: Bones-data/train/Spiral Fracture/spiral-fracture-lower-tibia_jpg.rf.b0dee5f894823b9d1511a648f61c8b53.jpg  \n",
            "  inflating: Bones-data/train/Spiral Fracture/Spiral-fracture-on-X-ray_jpg.rf.ae64d9cfbfdadfef110ed8ce5e2f53d8.jpg  \n",
            "  inflating: Bones-data/train/Spiral Fracture/t49hyd_jpg.rf.fd654ab696959793d435bb34748ff481.jpg  \n",
            "  inflating: Bones-data/train/Spiral Fracture/TibiaFractureOblique2Calmostspiralfractureline_jpg.rf.492e3ef1ab98004b415dc959540a353f.jpg  \n",
            "  inflating: Bones-data/train/Spiral Fracture/Toddlers-Fracturs_png.rf.d675d9c6d26079d3de9cd1c8595.jpg  \n",
            "  inflating: Bones-data/train/Spiral Fracture/Toddlers-Fracturs_png.rf.d675d9c6d26079e2d3de9cd1c8595.jpg  \n",
            "  inflating: Bones-data/train/Spiral Fracture/type20420femur20fracture20radiograph_jpg.rf.05e1141e0b65048b9e2d15727f159889.jpg  \n",
            "  inflating: Bones-data/train/Spiral Fracture/x-ray-side-of-skull-and-spine_jpg.rf.42c81b4c58a8971f8bb052bff41189ad.jpg  \n",
            "  inflating: Bones-data/train/Spiral Fracture/x-ray-spiral-shaped-fracture-shoulder-dislocation-head-humerus-elderly-lady-88926542_jpg.rf.e36508bf771826f2536e9bec58c2eb79.jpg  \n",
            "  inflating: Bones-data/train/Spiral Fracture/X-ray_Fractured_fibula_with_permission_of_patient_MF_jpg.rf.036b1454f32f0b436a12593485d7acb2.jpg  \n",
            "  inflating: Bones-data/train/Spiral Fracture/xray-film-spiral-fracture-third-metacarpal-bone-with-3-metallic-artifacts_78455-923_jpg.rf.4c8692f0a5dc6c95c9d400458d94e6ed.jpg  \n"
          ]
        }
      ]
    },
    {
      "cell_type": "code",
      "source": [
        "# re-size all the images to this\n",
        "IMAGE_SIZE = [224, 224]"
      ],
      "metadata": {
        "id": "CJ8hebX6AEdW"
      },
      "execution_count": 3,
      "outputs": []
    },
    {
      "cell_type": "code",
      "source": [
        "size = [224, 224] + [3]\n",
        "size"
      ],
      "metadata": {
        "colab": {
          "base_uri": "https://localhost:8080/"
        },
        "id": "H0wXvcOhCdzI",
        "outputId": "b5d714d7-801b-4873-cb83-869bbc945ce9"
      },
      "execution_count": 4,
      "outputs": [
        {
          "output_type": "execute_result",
          "data": {
            "text/plain": [
              "[224, 224, 3]"
            ]
          },
          "metadata": {},
          "execution_count": 4
        }
      ]
    },
    {
      "cell_type": "code",
      "source": [
        "train_path = '/content/Bones-data/train'\n",
        "valid_path = '/content/Bones-data/test'"
      ],
      "metadata": {
        "id": "U8h-2ApeBlev"
      },
      "execution_count": 5,
      "outputs": []
    },
    {
      "cell_type": "code",
      "source": [
        "import tensorflow as tf\n",
        "from tensorflow.keras.applications.vgg16 import VGG16\n",
        "from tensorflow.keras.preprocessing import image\n",
        "from tensorflow.keras.preprocessing.image import ImageDataGenerator,load_img\n",
        "import numpy as np\n",
        "from glob import glob\n",
        "from tensorflow.keras.models import Sequential\n",
        "from tensorflow.keras.models import Model\n",
        "from tensorflow.keras.layers import Input, Lambda, Dense, Flatten"
      ],
      "metadata": {
        "id": "hddjYi9EBtr2"
      },
      "execution_count": 6,
      "outputs": []
    },
    {
      "cell_type": "code",
      "source": [
        "vgg16 = VGG16(input_shape=IMAGE_SIZE + [3],  weights='imagenet', include_top=False)"
      ],
      "metadata": {
        "colab": {
          "base_uri": "https://localhost:8080/"
        },
        "id": "SRmHGKwhBtpX",
        "outputId": "f255f7f2-6b4b-43e6-a10d-f0b086cd6698"
      },
      "execution_count": 7,
      "outputs": [
        {
          "output_type": "stream",
          "name": "stdout",
          "text": [
            "Downloading data from https://storage.googleapis.com/tensorflow/keras-applications/vgg16/vgg16_weights_tf_dim_ordering_tf_kernels_notop.h5\n",
            "\u001b[1m58889256/58889256\u001b[0m \u001b[32m━━━━━━━━━━━━━━━━━━━━\u001b[0m\u001b[37m\u001b[0m \u001b[1m0s\u001b[0m 0us/step\n"
          ]
        }
      ]
    },
    {
      "cell_type": "code",
      "source": [
        "for layer in vgg16.layers:\n",
        "  print(layer.trainable)"
      ],
      "metadata": {
        "colab": {
          "base_uri": "https://localhost:8080/"
        },
        "id": "F0NfHwSS5IOx",
        "outputId": "e7f07b2b-3204-4616-a325-7a270da9379a"
      },
      "execution_count": 10,
      "outputs": [
        {
          "output_type": "stream",
          "name": "stdout",
          "text": [
            "False\n",
            "False\n",
            "False\n",
            "False\n",
            "False\n",
            "False\n",
            "False\n",
            "False\n",
            "False\n",
            "False\n",
            "False\n",
            "False\n",
            "False\n",
            "False\n",
            "False\n",
            "False\n",
            "False\n",
            "False\n",
            "False\n"
          ]
        }
      ]
    },
    {
      "cell_type": "code",
      "source": [
        "for layer in vgg16.layers:\n",
        "    layer.trainable = False"
      ],
      "metadata": {
        "id": "DGvWvJYaDAUn"
      },
      "execution_count": 9,
      "outputs": []
    },
    {
      "cell_type": "code",
      "source": [
        "for layer in vgg16.layers:\n",
        "  print(layer.name,layer.trainable)"
      ],
      "metadata": {
        "colab": {
          "base_uri": "https://localhost:8080/"
        },
        "id": "augo3potDAPX",
        "outputId": "09a5ae58-00f5-49b9-b60e-f45ca4acc607"
      },
      "execution_count": 11,
      "outputs": [
        {
          "output_type": "stream",
          "name": "stdout",
          "text": [
            "input_layer False\n",
            "block1_conv1 False\n",
            "block1_conv2 False\n",
            "block1_pool False\n",
            "block2_conv1 False\n",
            "block2_conv2 False\n",
            "block2_pool False\n",
            "block3_conv1 False\n",
            "block3_conv2 False\n",
            "block3_conv3 False\n",
            "block3_pool False\n",
            "block4_conv1 False\n",
            "block4_conv2 False\n",
            "block4_conv3 False\n",
            "block4_pool False\n",
            "block5_conv1 False\n",
            "block5_conv2 False\n",
            "block5_conv3 False\n",
            "block5_pool False\n"
          ]
        }
      ]
    },
    {
      "cell_type": "code",
      "source": [
        "vgg16.summary()"
      ],
      "metadata": {
        "colab": {
          "base_uri": "https://localhost:8080/",
          "height": 737
        },
        "id": "xyq7yaqPDI6v",
        "outputId": "7db6ea1f-0894-4079-cc59-46b45680339c"
      },
      "execution_count": 12,
      "outputs": [
        {
          "output_type": "display_data",
          "data": {
            "text/plain": [
              "\u001b[1mModel: \"vgg16\"\u001b[0m\n"
            ],
            "text/html": [
              "<pre style=\"white-space:pre;overflow-x:auto;line-height:normal;font-family:Menlo,'DejaVu Sans Mono',consolas,'Courier New',monospace\"><span style=\"font-weight: bold\">Model: \"vgg16\"</span>\n",
              "</pre>\n"
            ]
          },
          "metadata": {}
        },
        {
          "output_type": "display_data",
          "data": {
            "text/plain": [
              "┏━━━━━━━━━━━━━━━━━━━━━━━━━━━━━━━━━┳━━━━━━━━━━━━━━━━━━━━━━━━┳━━━━━━━━━━━━━━━┓\n",
              "┃\u001b[1m \u001b[0m\u001b[1mLayer (type)                   \u001b[0m\u001b[1m \u001b[0m┃\u001b[1m \u001b[0m\u001b[1mOutput Shape          \u001b[0m\u001b[1m \u001b[0m┃\u001b[1m \u001b[0m\u001b[1m      Param #\u001b[0m\u001b[1m \u001b[0m┃\n",
              "┡━━━━━━━━━━━━━━━━━━━━━━━━━━━━━━━━━╇━━━━━━━━━━━━━━━━━━━━━━━━╇━━━━━━━━━━━━━━━┩\n",
              "│ input_layer (\u001b[38;5;33mInputLayer\u001b[0m)        │ (\u001b[38;5;45mNone\u001b[0m, \u001b[38;5;34m224\u001b[0m, \u001b[38;5;34m224\u001b[0m, \u001b[38;5;34m3\u001b[0m)    │             \u001b[38;5;34m0\u001b[0m │\n",
              "├─────────────────────────────────┼────────────────────────┼───────────────┤\n",
              "│ block1_conv1 (\u001b[38;5;33mConv2D\u001b[0m)           │ (\u001b[38;5;45mNone\u001b[0m, \u001b[38;5;34m224\u001b[0m, \u001b[38;5;34m224\u001b[0m, \u001b[38;5;34m64\u001b[0m)   │         \u001b[38;5;34m1,792\u001b[0m │\n",
              "├─────────────────────────────────┼────────────────────────┼───────────────┤\n",
              "│ block1_conv2 (\u001b[38;5;33mConv2D\u001b[0m)           │ (\u001b[38;5;45mNone\u001b[0m, \u001b[38;5;34m224\u001b[0m, \u001b[38;5;34m224\u001b[0m, \u001b[38;5;34m64\u001b[0m)   │        \u001b[38;5;34m36,928\u001b[0m │\n",
              "├─────────────────────────────────┼────────────────────────┼───────────────┤\n",
              "│ block1_pool (\u001b[38;5;33mMaxPooling2D\u001b[0m)      │ (\u001b[38;5;45mNone\u001b[0m, \u001b[38;5;34m112\u001b[0m, \u001b[38;5;34m112\u001b[0m, \u001b[38;5;34m64\u001b[0m)   │             \u001b[38;5;34m0\u001b[0m │\n",
              "├─────────────────────────────────┼────────────────────────┼───────────────┤\n",
              "│ block2_conv1 (\u001b[38;5;33mConv2D\u001b[0m)           │ (\u001b[38;5;45mNone\u001b[0m, \u001b[38;5;34m112\u001b[0m, \u001b[38;5;34m112\u001b[0m, \u001b[38;5;34m128\u001b[0m)  │        \u001b[38;5;34m73,856\u001b[0m │\n",
              "├─────────────────────────────────┼────────────────────────┼───────────────┤\n",
              "│ block2_conv2 (\u001b[38;5;33mConv2D\u001b[0m)           │ (\u001b[38;5;45mNone\u001b[0m, \u001b[38;5;34m112\u001b[0m, \u001b[38;5;34m112\u001b[0m, \u001b[38;5;34m128\u001b[0m)  │       \u001b[38;5;34m147,584\u001b[0m │\n",
              "├─────────────────────────────────┼────────────────────────┼───────────────┤\n",
              "│ block2_pool (\u001b[38;5;33mMaxPooling2D\u001b[0m)      │ (\u001b[38;5;45mNone\u001b[0m, \u001b[38;5;34m56\u001b[0m, \u001b[38;5;34m56\u001b[0m, \u001b[38;5;34m128\u001b[0m)    │             \u001b[38;5;34m0\u001b[0m │\n",
              "├─────────────────────────────────┼────────────────────────┼───────────────┤\n",
              "│ block3_conv1 (\u001b[38;5;33mConv2D\u001b[0m)           │ (\u001b[38;5;45mNone\u001b[0m, \u001b[38;5;34m56\u001b[0m, \u001b[38;5;34m56\u001b[0m, \u001b[38;5;34m256\u001b[0m)    │       \u001b[38;5;34m295,168\u001b[0m │\n",
              "├─────────────────────────────────┼────────────────────────┼───────────────┤\n",
              "│ block3_conv2 (\u001b[38;5;33mConv2D\u001b[0m)           │ (\u001b[38;5;45mNone\u001b[0m, \u001b[38;5;34m56\u001b[0m, \u001b[38;5;34m56\u001b[0m, \u001b[38;5;34m256\u001b[0m)    │       \u001b[38;5;34m590,080\u001b[0m │\n",
              "├─────────────────────────────────┼────────────────────────┼───────────────┤\n",
              "│ block3_conv3 (\u001b[38;5;33mConv2D\u001b[0m)           │ (\u001b[38;5;45mNone\u001b[0m, \u001b[38;5;34m56\u001b[0m, \u001b[38;5;34m56\u001b[0m, \u001b[38;5;34m256\u001b[0m)    │       \u001b[38;5;34m590,080\u001b[0m │\n",
              "├─────────────────────────────────┼────────────────────────┼───────────────┤\n",
              "│ block3_pool (\u001b[38;5;33mMaxPooling2D\u001b[0m)      │ (\u001b[38;5;45mNone\u001b[0m, \u001b[38;5;34m28\u001b[0m, \u001b[38;5;34m28\u001b[0m, \u001b[38;5;34m256\u001b[0m)    │             \u001b[38;5;34m0\u001b[0m │\n",
              "├─────────────────────────────────┼────────────────────────┼───────────────┤\n",
              "│ block4_conv1 (\u001b[38;5;33mConv2D\u001b[0m)           │ (\u001b[38;5;45mNone\u001b[0m, \u001b[38;5;34m28\u001b[0m, \u001b[38;5;34m28\u001b[0m, \u001b[38;5;34m512\u001b[0m)    │     \u001b[38;5;34m1,180,160\u001b[0m │\n",
              "├─────────────────────────────────┼────────────────────────┼───────────────┤\n",
              "│ block4_conv2 (\u001b[38;5;33mConv2D\u001b[0m)           │ (\u001b[38;5;45mNone\u001b[0m, \u001b[38;5;34m28\u001b[0m, \u001b[38;5;34m28\u001b[0m, \u001b[38;5;34m512\u001b[0m)    │     \u001b[38;5;34m2,359,808\u001b[0m │\n",
              "├─────────────────────────────────┼────────────────────────┼───────────────┤\n",
              "│ block4_conv3 (\u001b[38;5;33mConv2D\u001b[0m)           │ (\u001b[38;5;45mNone\u001b[0m, \u001b[38;5;34m28\u001b[0m, \u001b[38;5;34m28\u001b[0m, \u001b[38;5;34m512\u001b[0m)    │     \u001b[38;5;34m2,359,808\u001b[0m │\n",
              "├─────────────────────────────────┼────────────────────────┼───────────────┤\n",
              "│ block4_pool (\u001b[38;5;33mMaxPooling2D\u001b[0m)      │ (\u001b[38;5;45mNone\u001b[0m, \u001b[38;5;34m14\u001b[0m, \u001b[38;5;34m14\u001b[0m, \u001b[38;5;34m512\u001b[0m)    │             \u001b[38;5;34m0\u001b[0m │\n",
              "├─────────────────────────────────┼────────────────────────┼───────────────┤\n",
              "│ block5_conv1 (\u001b[38;5;33mConv2D\u001b[0m)           │ (\u001b[38;5;45mNone\u001b[0m, \u001b[38;5;34m14\u001b[0m, \u001b[38;5;34m14\u001b[0m, \u001b[38;5;34m512\u001b[0m)    │     \u001b[38;5;34m2,359,808\u001b[0m │\n",
              "├─────────────────────────────────┼────────────────────────┼───────────────┤\n",
              "│ block5_conv2 (\u001b[38;5;33mConv2D\u001b[0m)           │ (\u001b[38;5;45mNone\u001b[0m, \u001b[38;5;34m14\u001b[0m, \u001b[38;5;34m14\u001b[0m, \u001b[38;5;34m512\u001b[0m)    │     \u001b[38;5;34m2,359,808\u001b[0m │\n",
              "├─────────────────────────────────┼────────────────────────┼───────────────┤\n",
              "│ block5_conv3 (\u001b[38;5;33mConv2D\u001b[0m)           │ (\u001b[38;5;45mNone\u001b[0m, \u001b[38;5;34m14\u001b[0m, \u001b[38;5;34m14\u001b[0m, \u001b[38;5;34m512\u001b[0m)    │     \u001b[38;5;34m2,359,808\u001b[0m │\n",
              "├─────────────────────────────────┼────────────────────────┼───────────────┤\n",
              "│ block5_pool (\u001b[38;5;33mMaxPooling2D\u001b[0m)      │ (\u001b[38;5;45mNone\u001b[0m, \u001b[38;5;34m7\u001b[0m, \u001b[38;5;34m7\u001b[0m, \u001b[38;5;34m512\u001b[0m)      │             \u001b[38;5;34m0\u001b[0m │\n",
              "└─────────────────────────────────┴────────────────────────┴───────────────┘\n"
            ],
            "text/html": [
              "<pre style=\"white-space:pre;overflow-x:auto;line-height:normal;font-family:Menlo,'DejaVu Sans Mono',consolas,'Courier New',monospace\">┏━━━━━━━━━━━━━━━━━━━━━━━━━━━━━━━━━┳━━━━━━━━━━━━━━━━━━━━━━━━┳━━━━━━━━━━━━━━━┓\n",
              "┃<span style=\"font-weight: bold\"> Layer (type)                    </span>┃<span style=\"font-weight: bold\"> Output Shape           </span>┃<span style=\"font-weight: bold\">       Param # </span>┃\n",
              "┡━━━━━━━━━━━━━━━━━━━━━━━━━━━━━━━━━╇━━━━━━━━━━━━━━━━━━━━━━━━╇━━━━━━━━━━━━━━━┩\n",
              "│ input_layer (<span style=\"color: #0087ff; text-decoration-color: #0087ff\">InputLayer</span>)        │ (<span style=\"color: #00d7ff; text-decoration-color: #00d7ff\">None</span>, <span style=\"color: #00af00; text-decoration-color: #00af00\">224</span>, <span style=\"color: #00af00; text-decoration-color: #00af00\">224</span>, <span style=\"color: #00af00; text-decoration-color: #00af00\">3</span>)    │             <span style=\"color: #00af00; text-decoration-color: #00af00\">0</span> │\n",
              "├─────────────────────────────────┼────────────────────────┼───────────────┤\n",
              "│ block1_conv1 (<span style=\"color: #0087ff; text-decoration-color: #0087ff\">Conv2D</span>)           │ (<span style=\"color: #00d7ff; text-decoration-color: #00d7ff\">None</span>, <span style=\"color: #00af00; text-decoration-color: #00af00\">224</span>, <span style=\"color: #00af00; text-decoration-color: #00af00\">224</span>, <span style=\"color: #00af00; text-decoration-color: #00af00\">64</span>)   │         <span style=\"color: #00af00; text-decoration-color: #00af00\">1,792</span> │\n",
              "├─────────────────────────────────┼────────────────────────┼───────────────┤\n",
              "│ block1_conv2 (<span style=\"color: #0087ff; text-decoration-color: #0087ff\">Conv2D</span>)           │ (<span style=\"color: #00d7ff; text-decoration-color: #00d7ff\">None</span>, <span style=\"color: #00af00; text-decoration-color: #00af00\">224</span>, <span style=\"color: #00af00; text-decoration-color: #00af00\">224</span>, <span style=\"color: #00af00; text-decoration-color: #00af00\">64</span>)   │        <span style=\"color: #00af00; text-decoration-color: #00af00\">36,928</span> │\n",
              "├─────────────────────────────────┼────────────────────────┼───────────────┤\n",
              "│ block1_pool (<span style=\"color: #0087ff; text-decoration-color: #0087ff\">MaxPooling2D</span>)      │ (<span style=\"color: #00d7ff; text-decoration-color: #00d7ff\">None</span>, <span style=\"color: #00af00; text-decoration-color: #00af00\">112</span>, <span style=\"color: #00af00; text-decoration-color: #00af00\">112</span>, <span style=\"color: #00af00; text-decoration-color: #00af00\">64</span>)   │             <span style=\"color: #00af00; text-decoration-color: #00af00\">0</span> │\n",
              "├─────────────────────────────────┼────────────────────────┼───────────────┤\n",
              "│ block2_conv1 (<span style=\"color: #0087ff; text-decoration-color: #0087ff\">Conv2D</span>)           │ (<span style=\"color: #00d7ff; text-decoration-color: #00d7ff\">None</span>, <span style=\"color: #00af00; text-decoration-color: #00af00\">112</span>, <span style=\"color: #00af00; text-decoration-color: #00af00\">112</span>, <span style=\"color: #00af00; text-decoration-color: #00af00\">128</span>)  │        <span style=\"color: #00af00; text-decoration-color: #00af00\">73,856</span> │\n",
              "├─────────────────────────────────┼────────────────────────┼───────────────┤\n",
              "│ block2_conv2 (<span style=\"color: #0087ff; text-decoration-color: #0087ff\">Conv2D</span>)           │ (<span style=\"color: #00d7ff; text-decoration-color: #00d7ff\">None</span>, <span style=\"color: #00af00; text-decoration-color: #00af00\">112</span>, <span style=\"color: #00af00; text-decoration-color: #00af00\">112</span>, <span style=\"color: #00af00; text-decoration-color: #00af00\">128</span>)  │       <span style=\"color: #00af00; text-decoration-color: #00af00\">147,584</span> │\n",
              "├─────────────────────────────────┼────────────────────────┼───────────────┤\n",
              "│ block2_pool (<span style=\"color: #0087ff; text-decoration-color: #0087ff\">MaxPooling2D</span>)      │ (<span style=\"color: #00d7ff; text-decoration-color: #00d7ff\">None</span>, <span style=\"color: #00af00; text-decoration-color: #00af00\">56</span>, <span style=\"color: #00af00; text-decoration-color: #00af00\">56</span>, <span style=\"color: #00af00; text-decoration-color: #00af00\">128</span>)    │             <span style=\"color: #00af00; text-decoration-color: #00af00\">0</span> │\n",
              "├─────────────────────────────────┼────────────────────────┼───────────────┤\n",
              "│ block3_conv1 (<span style=\"color: #0087ff; text-decoration-color: #0087ff\">Conv2D</span>)           │ (<span style=\"color: #00d7ff; text-decoration-color: #00d7ff\">None</span>, <span style=\"color: #00af00; text-decoration-color: #00af00\">56</span>, <span style=\"color: #00af00; text-decoration-color: #00af00\">56</span>, <span style=\"color: #00af00; text-decoration-color: #00af00\">256</span>)    │       <span style=\"color: #00af00; text-decoration-color: #00af00\">295,168</span> │\n",
              "├─────────────────────────────────┼────────────────────────┼───────────────┤\n",
              "│ block3_conv2 (<span style=\"color: #0087ff; text-decoration-color: #0087ff\">Conv2D</span>)           │ (<span style=\"color: #00d7ff; text-decoration-color: #00d7ff\">None</span>, <span style=\"color: #00af00; text-decoration-color: #00af00\">56</span>, <span style=\"color: #00af00; text-decoration-color: #00af00\">56</span>, <span style=\"color: #00af00; text-decoration-color: #00af00\">256</span>)    │       <span style=\"color: #00af00; text-decoration-color: #00af00\">590,080</span> │\n",
              "├─────────────────────────────────┼────────────────────────┼───────────────┤\n",
              "│ block3_conv3 (<span style=\"color: #0087ff; text-decoration-color: #0087ff\">Conv2D</span>)           │ (<span style=\"color: #00d7ff; text-decoration-color: #00d7ff\">None</span>, <span style=\"color: #00af00; text-decoration-color: #00af00\">56</span>, <span style=\"color: #00af00; text-decoration-color: #00af00\">56</span>, <span style=\"color: #00af00; text-decoration-color: #00af00\">256</span>)    │       <span style=\"color: #00af00; text-decoration-color: #00af00\">590,080</span> │\n",
              "├─────────────────────────────────┼────────────────────────┼───────────────┤\n",
              "│ block3_pool (<span style=\"color: #0087ff; text-decoration-color: #0087ff\">MaxPooling2D</span>)      │ (<span style=\"color: #00d7ff; text-decoration-color: #00d7ff\">None</span>, <span style=\"color: #00af00; text-decoration-color: #00af00\">28</span>, <span style=\"color: #00af00; text-decoration-color: #00af00\">28</span>, <span style=\"color: #00af00; text-decoration-color: #00af00\">256</span>)    │             <span style=\"color: #00af00; text-decoration-color: #00af00\">0</span> │\n",
              "├─────────────────────────────────┼────────────────────────┼───────────────┤\n",
              "│ block4_conv1 (<span style=\"color: #0087ff; text-decoration-color: #0087ff\">Conv2D</span>)           │ (<span style=\"color: #00d7ff; text-decoration-color: #00d7ff\">None</span>, <span style=\"color: #00af00; text-decoration-color: #00af00\">28</span>, <span style=\"color: #00af00; text-decoration-color: #00af00\">28</span>, <span style=\"color: #00af00; text-decoration-color: #00af00\">512</span>)    │     <span style=\"color: #00af00; text-decoration-color: #00af00\">1,180,160</span> │\n",
              "├─────────────────────────────────┼────────────────────────┼───────────────┤\n",
              "│ block4_conv2 (<span style=\"color: #0087ff; text-decoration-color: #0087ff\">Conv2D</span>)           │ (<span style=\"color: #00d7ff; text-decoration-color: #00d7ff\">None</span>, <span style=\"color: #00af00; text-decoration-color: #00af00\">28</span>, <span style=\"color: #00af00; text-decoration-color: #00af00\">28</span>, <span style=\"color: #00af00; text-decoration-color: #00af00\">512</span>)    │     <span style=\"color: #00af00; text-decoration-color: #00af00\">2,359,808</span> │\n",
              "├─────────────────────────────────┼────────────────────────┼───────────────┤\n",
              "│ block4_conv3 (<span style=\"color: #0087ff; text-decoration-color: #0087ff\">Conv2D</span>)           │ (<span style=\"color: #00d7ff; text-decoration-color: #00d7ff\">None</span>, <span style=\"color: #00af00; text-decoration-color: #00af00\">28</span>, <span style=\"color: #00af00; text-decoration-color: #00af00\">28</span>, <span style=\"color: #00af00; text-decoration-color: #00af00\">512</span>)    │     <span style=\"color: #00af00; text-decoration-color: #00af00\">2,359,808</span> │\n",
              "├─────────────────────────────────┼────────────────────────┼───────────────┤\n",
              "│ block4_pool (<span style=\"color: #0087ff; text-decoration-color: #0087ff\">MaxPooling2D</span>)      │ (<span style=\"color: #00d7ff; text-decoration-color: #00d7ff\">None</span>, <span style=\"color: #00af00; text-decoration-color: #00af00\">14</span>, <span style=\"color: #00af00; text-decoration-color: #00af00\">14</span>, <span style=\"color: #00af00; text-decoration-color: #00af00\">512</span>)    │             <span style=\"color: #00af00; text-decoration-color: #00af00\">0</span> │\n",
              "├─────────────────────────────────┼────────────────────────┼───────────────┤\n",
              "│ block5_conv1 (<span style=\"color: #0087ff; text-decoration-color: #0087ff\">Conv2D</span>)           │ (<span style=\"color: #00d7ff; text-decoration-color: #00d7ff\">None</span>, <span style=\"color: #00af00; text-decoration-color: #00af00\">14</span>, <span style=\"color: #00af00; text-decoration-color: #00af00\">14</span>, <span style=\"color: #00af00; text-decoration-color: #00af00\">512</span>)    │     <span style=\"color: #00af00; text-decoration-color: #00af00\">2,359,808</span> │\n",
              "├─────────────────────────────────┼────────────────────────┼───────────────┤\n",
              "│ block5_conv2 (<span style=\"color: #0087ff; text-decoration-color: #0087ff\">Conv2D</span>)           │ (<span style=\"color: #00d7ff; text-decoration-color: #00d7ff\">None</span>, <span style=\"color: #00af00; text-decoration-color: #00af00\">14</span>, <span style=\"color: #00af00; text-decoration-color: #00af00\">14</span>, <span style=\"color: #00af00; text-decoration-color: #00af00\">512</span>)    │     <span style=\"color: #00af00; text-decoration-color: #00af00\">2,359,808</span> │\n",
              "├─────────────────────────────────┼────────────────────────┼───────────────┤\n",
              "│ block5_conv3 (<span style=\"color: #0087ff; text-decoration-color: #0087ff\">Conv2D</span>)           │ (<span style=\"color: #00d7ff; text-decoration-color: #00d7ff\">None</span>, <span style=\"color: #00af00; text-decoration-color: #00af00\">14</span>, <span style=\"color: #00af00; text-decoration-color: #00af00\">14</span>, <span style=\"color: #00af00; text-decoration-color: #00af00\">512</span>)    │     <span style=\"color: #00af00; text-decoration-color: #00af00\">2,359,808</span> │\n",
              "├─────────────────────────────────┼────────────────────────┼───────────────┤\n",
              "│ block5_pool (<span style=\"color: #0087ff; text-decoration-color: #0087ff\">MaxPooling2D</span>)      │ (<span style=\"color: #00d7ff; text-decoration-color: #00d7ff\">None</span>, <span style=\"color: #00af00; text-decoration-color: #00af00\">7</span>, <span style=\"color: #00af00; text-decoration-color: #00af00\">7</span>, <span style=\"color: #00af00; text-decoration-color: #00af00\">512</span>)      │             <span style=\"color: #00af00; text-decoration-color: #00af00\">0</span> │\n",
              "└─────────────────────────────────┴────────────────────────┴───────────────┘\n",
              "</pre>\n"
            ]
          },
          "metadata": {}
        },
        {
          "output_type": "display_data",
          "data": {
            "text/plain": [
              "\u001b[1m Total params: \u001b[0m\u001b[38;5;34m14,714,688\u001b[0m (56.13 MB)\n"
            ],
            "text/html": [
              "<pre style=\"white-space:pre;overflow-x:auto;line-height:normal;font-family:Menlo,'DejaVu Sans Mono',consolas,'Courier New',monospace\"><span style=\"font-weight: bold\"> Total params: </span><span style=\"color: #00af00; text-decoration-color: #00af00\">14,714,688</span> (56.13 MB)\n",
              "</pre>\n"
            ]
          },
          "metadata": {}
        },
        {
          "output_type": "display_data",
          "data": {
            "text/plain": [
              "\u001b[1m Trainable params: \u001b[0m\u001b[38;5;34m0\u001b[0m (0.00 B)\n"
            ],
            "text/html": [
              "<pre style=\"white-space:pre;overflow-x:auto;line-height:normal;font-family:Menlo,'DejaVu Sans Mono',consolas,'Courier New',monospace\"><span style=\"font-weight: bold\"> Trainable params: </span><span style=\"color: #00af00; text-decoration-color: #00af00\">0</span> (0.00 B)\n",
              "</pre>\n"
            ]
          },
          "metadata": {}
        },
        {
          "output_type": "display_data",
          "data": {
            "text/plain": [
              "\u001b[1m Non-trainable params: \u001b[0m\u001b[38;5;34m14,714,688\u001b[0m (56.13 MB)\n"
            ],
            "text/html": [
              "<pre style=\"white-space:pre;overflow-x:auto;line-height:normal;font-family:Menlo,'DejaVu Sans Mono',consolas,'Courier New',monospace\"><span style=\"font-weight: bold\"> Non-trainable params: </span><span style=\"color: #00af00; text-decoration-color: #00af00\">14,714,688</span> (56.13 MB)\n",
              "</pre>\n"
            ]
          },
          "metadata": {}
        }
      ]
    },
    {
      "cell_type": "code",
      "source": [
        "folders = glob('/content/Bones-data/train/*')\n",
        "folders"
      ],
      "metadata": {
        "colab": {
          "base_uri": "https://localhost:8080/"
        },
        "id": "rDQIYOJcDI4X",
        "outputId": "e5f9254a-fd91-4ce4-c001-e3d9e6103672"
      },
      "execution_count": 13,
      "outputs": [
        {
          "output_type": "execute_result",
          "data": {
            "text/plain": [
              "['/content/Bones-data/train/Spiral Fracture',\n",
              " '/content/Bones-data/train/Oblique fracture']"
            ]
          },
          "metadata": {},
          "execution_count": 13
        }
      ]
    },
    {
      "cell_type": "code",
      "source": [
        "num_of_class = len(folders)\n",
        "num_of_class"
      ],
      "metadata": {
        "colab": {
          "base_uri": "https://localhost:8080/"
        },
        "id": "XJHUcNXlDbRY",
        "outputId": "07c58452-6277-425c-f320-af09ececc240"
      },
      "execution_count": 14,
      "outputs": [
        {
          "output_type": "execute_result",
          "data": {
            "text/plain": [
              "2"
            ]
          },
          "metadata": {},
          "execution_count": 14
        }
      ]
    },
    {
      "cell_type": "code",
      "source": [
        "model = Sequential()\n",
        "model.add(vgg16)\n",
        "model.add(Flatten())\n",
        "model.add(Dense(256,activation='relu'))\n",
        "model.add(Dense(num_of_class,activation='softmax'))"
      ],
      "metadata": {
        "id": "J3jQckEpDd3Q"
      },
      "execution_count": 15,
      "outputs": []
    },
    {
      "cell_type": "code",
      "source": [
        "# view the structure of the model\n",
        "model.summary()"
      ],
      "metadata": {
        "colab": {
          "base_uri": "https://localhost:8080/",
          "height": 257
        },
        "id": "vUAzPRm6EO9f",
        "outputId": "1425cd4a-5379-4a4d-ab5b-f075a1e9cfff"
      },
      "execution_count": 16,
      "outputs": [
        {
          "output_type": "display_data",
          "data": {
            "text/plain": [
              "\u001b[1mModel: \"sequential\"\u001b[0m\n"
            ],
            "text/html": [
              "<pre style=\"white-space:pre;overflow-x:auto;line-height:normal;font-family:Menlo,'DejaVu Sans Mono',consolas,'Courier New',monospace\"><span style=\"font-weight: bold\">Model: \"sequential\"</span>\n",
              "</pre>\n"
            ]
          },
          "metadata": {}
        },
        {
          "output_type": "display_data",
          "data": {
            "text/plain": [
              "┏━━━━━━━━━━━━━━━━━━━━━━━━━━━━━━━━━┳━━━━━━━━━━━━━━━━━━━━━━━━┳━━━━━━━━━━━━━━━┓\n",
              "┃\u001b[1m \u001b[0m\u001b[1mLayer (type)                   \u001b[0m\u001b[1m \u001b[0m┃\u001b[1m \u001b[0m\u001b[1mOutput Shape          \u001b[0m\u001b[1m \u001b[0m┃\u001b[1m \u001b[0m\u001b[1m      Param #\u001b[0m\u001b[1m \u001b[0m┃\n",
              "┡━━━━━━━━━━━━━━━━━━━━━━━━━━━━━━━━━╇━━━━━━━━━━━━━━━━━━━━━━━━╇━━━━━━━━━━━━━━━┩\n",
              "│ vgg16 (\u001b[38;5;33mFunctional\u001b[0m)              │ (\u001b[38;5;45mNone\u001b[0m, \u001b[38;5;34m7\u001b[0m, \u001b[38;5;34m7\u001b[0m, \u001b[38;5;34m512\u001b[0m)      │    \u001b[38;5;34m14,714,688\u001b[0m │\n",
              "├─────────────────────────────────┼────────────────────────┼───────────────┤\n",
              "│ flatten (\u001b[38;5;33mFlatten\u001b[0m)               │ (\u001b[38;5;45mNone\u001b[0m, \u001b[38;5;34m25088\u001b[0m)          │             \u001b[38;5;34m0\u001b[0m │\n",
              "├─────────────────────────────────┼────────────────────────┼───────────────┤\n",
              "│ dense (\u001b[38;5;33mDense\u001b[0m)                   │ (\u001b[38;5;45mNone\u001b[0m, \u001b[38;5;34m256\u001b[0m)            │     \u001b[38;5;34m6,422,784\u001b[0m │\n",
              "├─────────────────────────────────┼────────────────────────┼───────────────┤\n",
              "│ dense_1 (\u001b[38;5;33mDense\u001b[0m)                 │ (\u001b[38;5;45mNone\u001b[0m, \u001b[38;5;34m2\u001b[0m)              │           \u001b[38;5;34m514\u001b[0m │\n",
              "└─────────────────────────────────┴────────────────────────┴───────────────┘\n"
            ],
            "text/html": [
              "<pre style=\"white-space:pre;overflow-x:auto;line-height:normal;font-family:Menlo,'DejaVu Sans Mono',consolas,'Courier New',monospace\">┏━━━━━━━━━━━━━━━━━━━━━━━━━━━━━━━━━┳━━━━━━━━━━━━━━━━━━━━━━━━┳━━━━━━━━━━━━━━━┓\n",
              "┃<span style=\"font-weight: bold\"> Layer (type)                    </span>┃<span style=\"font-weight: bold\"> Output Shape           </span>┃<span style=\"font-weight: bold\">       Param # </span>┃\n",
              "┡━━━━━━━━━━━━━━━━━━━━━━━━━━━━━━━━━╇━━━━━━━━━━━━━━━━━━━━━━━━╇━━━━━━━━━━━━━━━┩\n",
              "│ vgg16 (<span style=\"color: #0087ff; text-decoration-color: #0087ff\">Functional</span>)              │ (<span style=\"color: #00d7ff; text-decoration-color: #00d7ff\">None</span>, <span style=\"color: #00af00; text-decoration-color: #00af00\">7</span>, <span style=\"color: #00af00; text-decoration-color: #00af00\">7</span>, <span style=\"color: #00af00; text-decoration-color: #00af00\">512</span>)      │    <span style=\"color: #00af00; text-decoration-color: #00af00\">14,714,688</span> │\n",
              "├─────────────────────────────────┼────────────────────────┼───────────────┤\n",
              "│ flatten (<span style=\"color: #0087ff; text-decoration-color: #0087ff\">Flatten</span>)               │ (<span style=\"color: #00d7ff; text-decoration-color: #00d7ff\">None</span>, <span style=\"color: #00af00; text-decoration-color: #00af00\">25088</span>)          │             <span style=\"color: #00af00; text-decoration-color: #00af00\">0</span> │\n",
              "├─────────────────────────────────┼────────────────────────┼───────────────┤\n",
              "│ dense (<span style=\"color: #0087ff; text-decoration-color: #0087ff\">Dense</span>)                   │ (<span style=\"color: #00d7ff; text-decoration-color: #00d7ff\">None</span>, <span style=\"color: #00af00; text-decoration-color: #00af00\">256</span>)            │     <span style=\"color: #00af00; text-decoration-color: #00af00\">6,422,784</span> │\n",
              "├─────────────────────────────────┼────────────────────────┼───────────────┤\n",
              "│ dense_1 (<span style=\"color: #0087ff; text-decoration-color: #0087ff\">Dense</span>)                 │ (<span style=\"color: #00d7ff; text-decoration-color: #00d7ff\">None</span>, <span style=\"color: #00af00; text-decoration-color: #00af00\">2</span>)              │           <span style=\"color: #00af00; text-decoration-color: #00af00\">514</span> │\n",
              "└─────────────────────────────────┴────────────────────────┴───────────────┘\n",
              "</pre>\n"
            ]
          },
          "metadata": {}
        },
        {
          "output_type": "display_data",
          "data": {
            "text/plain": [
              "\u001b[1m Total params: \u001b[0m\u001b[38;5;34m21,137,986\u001b[0m (80.64 MB)\n"
            ],
            "text/html": [
              "<pre style=\"white-space:pre;overflow-x:auto;line-height:normal;font-family:Menlo,'DejaVu Sans Mono',consolas,'Courier New',monospace\"><span style=\"font-weight: bold\"> Total params: </span><span style=\"color: #00af00; text-decoration-color: #00af00\">21,137,986</span> (80.64 MB)\n",
              "</pre>\n"
            ]
          },
          "metadata": {}
        },
        {
          "output_type": "display_data",
          "data": {
            "text/plain": [
              "\u001b[1m Trainable params: \u001b[0m\u001b[38;5;34m6,423,298\u001b[0m (24.50 MB)\n"
            ],
            "text/html": [
              "<pre style=\"white-space:pre;overflow-x:auto;line-height:normal;font-family:Menlo,'DejaVu Sans Mono',consolas,'Courier New',monospace\"><span style=\"font-weight: bold\"> Trainable params: </span><span style=\"color: #00af00; text-decoration-color: #00af00\">6,423,298</span> (24.50 MB)\n",
              "</pre>\n"
            ]
          },
          "metadata": {}
        },
        {
          "output_type": "display_data",
          "data": {
            "text/plain": [
              "\u001b[1m Non-trainable params: \u001b[0m\u001b[38;5;34m14,714,688\u001b[0m (56.13 MB)\n"
            ],
            "text/html": [
              "<pre style=\"white-space:pre;overflow-x:auto;line-height:normal;font-family:Menlo,'DejaVu Sans Mono',consolas,'Courier New',monospace\"><span style=\"font-weight: bold\"> Non-trainable params: </span><span style=\"color: #00af00; text-decoration-color: #00af00\">14,714,688</span> (56.13 MB)\n",
              "</pre>\n"
            ]
          },
          "metadata": {}
        }
      ]
    },
    {
      "cell_type": "code",
      "source": [
        "model.compile(\n",
        "  loss='categorical_crossentropy',\n",
        "  optimizer='adam',\n",
        "  metrics=['accuracy']\n",
        ")"
      ],
      "metadata": {
        "id": "Q4m-A33OEVJh"
      },
      "execution_count": 17,
      "outputs": []
    },
    {
      "cell_type": "code",
      "source": [
        "from tensorflow.keras.preprocessing.image import ImageDataGenerator"
      ],
      "metadata": {
        "id": "-76r68hdEVGH"
      },
      "execution_count": 18,
      "outputs": []
    },
    {
      "cell_type": "code",
      "source": [
        "train_datagen = ImageDataGenerator(rescale = 1./255,\n",
        "                                   shear_range = 0.2,\n",
        "                                   zoom_range = 0.2,\n",
        "                                   horizontal_flip = True)\n",
        "\n",
        "test_datagen = ImageDataGenerator(rescale = 1./255)"
      ],
      "metadata": {
        "id": "UAwZGY2MEVC_"
      },
      "execution_count": 19,
      "outputs": []
    },
    {
      "cell_type": "code",
      "source": [
        "training_set = train_datagen.flow_from_directory(train_path,\n",
        "                                                 target_size = (224, 224),\n",
        "                                                 batch_size = 32,\n",
        "                                                 class_mode = 'categorical')"
      ],
      "metadata": {
        "colab": {
          "base_uri": "https://localhost:8080/"
        },
        "id": "GokmDUnkFLO3",
        "outputId": "21681410-5172-48d5-b41d-eb2425fb3a59"
      },
      "execution_count": 20,
      "outputs": [
        {
          "output_type": "stream",
          "name": "stdout",
          "text": [
            "Found 143 images belonging to 2 classes.\n"
          ]
        }
      ]
    },
    {
      "cell_type": "code",
      "source": [
        "test_set = test_datagen.flow_from_directory(valid_path,\n",
        "                                            target_size = (224, 224),\n",
        "                                            batch_size = 32,\n",
        "                                            class_mode = 'categorical')"
      ],
      "metadata": {
        "colab": {
          "base_uri": "https://localhost:8080/"
        },
        "id": "92iRgmyRFLM3",
        "outputId": "35903e7f-8485-45f3-c98e-a11d335cf4bd"
      },
      "execution_count": 21,
      "outputs": [
        {
          "output_type": "stream",
          "name": "stdout",
          "text": [
            "Found 28 images belonging to 2 classes.\n"
          ]
        }
      ]
    },
    {
      "cell_type": "code",
      "source": [
        "r = model.fit(\n",
        "  training_set,\n",
        "  validation_data=test_set,\n",
        "  epochs=10,\n",
        "  steps_per_epoch=len(training_set),\n",
        "  validation_steps=len(test_set)\n",
        ")"
      ],
      "metadata": {
        "colab": {
          "base_uri": "https://localhost:8080/"
        },
        "id": "ixYzK6kWFLKY",
        "outputId": "40b7491e-b39f-430c-d739-39794524de79"
      },
      "execution_count": 22,
      "outputs": [
        {
          "output_type": "stream",
          "name": "stderr",
          "text": [
            "/usr/local/lib/python3.11/dist-packages/keras/src/trainers/data_adapters/py_dataset_adapter.py:121: UserWarning: Your `PyDataset` class should call `super().__init__(**kwargs)` in its constructor. `**kwargs` can include `workers`, `use_multiprocessing`, `max_queue_size`. Do not pass these arguments to `fit()`, as they will be ignored.\n",
            "  self._warn_if_super_not_called()\n"
          ]
        },
        {
          "output_type": "stream",
          "name": "stdout",
          "text": [
            "Epoch 1/10\n",
            "\u001b[1m5/5\u001b[0m \u001b[32m━━━━━━━━━━━━━━━━━━━━\u001b[0m\u001b[37m\u001b[0m \u001b[1m30s\u001b[0m 4s/step - accuracy: 0.4444 - loss: 2.0920 - val_accuracy: 0.4286 - val_loss: 2.7817\n",
            "Epoch 2/10\n",
            "\u001b[1m5/5\u001b[0m \u001b[32m━━━━━━━━━━━━━━━━━━━━\u001b[0m\u001b[37m\u001b[0m \u001b[1m14s\u001b[0m 383ms/step - accuracy: 0.5877 - loss: 1.5852 - val_accuracy: 0.6071 - val_loss: 0.8524\n",
            "Epoch 3/10\n",
            "\u001b[1m5/5\u001b[0m \u001b[32m━━━━━━━━━━━━━━━━━━━━\u001b[0m\u001b[37m\u001b[0m \u001b[1m2s\u001b[0m 395ms/step - accuracy: 0.7375 - loss: 0.5303 - val_accuracy: 0.6071 - val_loss: 1.0300\n",
            "Epoch 4/10\n",
            "\u001b[1m5/5\u001b[0m \u001b[32m━━━━━━━━━━━━━━━━━━━━\u001b[0m\u001b[37m\u001b[0m \u001b[1m3s\u001b[0m 385ms/step - accuracy: 0.7753 - loss: 0.4913 - val_accuracy: 0.4286 - val_loss: 2.5883\n",
            "Epoch 5/10\n",
            "\u001b[1m5/5\u001b[0m \u001b[32m━━━━━━━━━━━━━━━━━━━━\u001b[0m\u001b[37m\u001b[0m \u001b[1m3s\u001b[0m 556ms/step - accuracy: 0.6804 - loss: 0.9803 - val_accuracy: 0.7500 - val_loss: 0.5654\n",
            "Epoch 6/10\n",
            "\u001b[1m5/5\u001b[0m \u001b[32m━━━━━━━━━━━━━━━━━━━━\u001b[0m\u001b[37m\u001b[0m \u001b[1m4s\u001b[0m 392ms/step - accuracy: 0.7485 - loss: 0.5239 - val_accuracy: 0.6071 - val_loss: 0.9266\n",
            "Epoch 7/10\n",
            "\u001b[1m5/5\u001b[0m \u001b[32m━━━━━━━━━━━━━━━━━━━━\u001b[0m\u001b[37m\u001b[0m \u001b[1m2s\u001b[0m 395ms/step - accuracy: 0.7117 - loss: 0.5480 - val_accuracy: 0.5000 - val_loss: 1.1402\n",
            "Epoch 8/10\n",
            "\u001b[1m5/5\u001b[0m \u001b[32m━━━━━━━━━━━━━━━━━━━━\u001b[0m\u001b[37m\u001b[0m \u001b[1m3s\u001b[0m 388ms/step - accuracy: 0.8563 - loss: 0.3023 - val_accuracy: 0.6071 - val_loss: 0.8817\n",
            "Epoch 9/10\n",
            "\u001b[1m5/5\u001b[0m \u001b[32m━━━━━━━━━━━━━━━━━━━━\u001b[0m\u001b[37m\u001b[0m \u001b[1m3s\u001b[0m 574ms/step - accuracy: 0.8777 - loss: 0.2408 - val_accuracy: 0.5714 - val_loss: 1.0665\n",
            "Epoch 10/10\n",
            "\u001b[1m5/5\u001b[0m \u001b[32m━━━━━━━━━━━━━━━━━━━━\u001b[0m\u001b[37m\u001b[0m \u001b[1m4s\u001b[0m 385ms/step - accuracy: 0.8825 - loss: 0.3205 - val_accuracy: 0.5357 - val_loss: 1.7042\n"
          ]
        }
      ]
    },
    {
      "cell_type": "code",
      "source": [
        "import matplotlib.pyplot as plt\n",
        "# plot the loss\n",
        "plt.plot(r.history['loss'], label='train loss')\n",
        "plt.plot(r.history['val_loss'], label='val loss')\n",
        "plt.legend()\n",
        "plt.show()\n",
        "plt.savefig('LossVal_loss')"
      ],
      "metadata": {
        "colab": {
          "base_uri": "https://localhost:8080/",
          "height": 447
        },
        "id": "8gIvBhTBGPXw",
        "outputId": "c226964d-0050-4d22-dfd5-9482c2a09455"
      },
      "execution_count": 23,
      "outputs": [
        {
          "output_type": "display_data",
          "data": {
            "text/plain": [
              "<Figure size 640x480 with 1 Axes>"
            ],
            "image/png": "[encoded data removed]"
          },
          "metadata": {}
        },
        {
          "output_type": "display_data",
          "data": {
            "text/plain": [
              "<Figure size 640x480 with 0 Axes>"
            ]
          },
          "metadata": {}
        }
      ]
    },
    {
      "cell_type": "code",
      "source": [
        "# plot the accuracy\n",
        "plt.plot(r.history['accuracy'], label='train acc')\n",
        "plt.plot(r.history['val_accuracy'], label='val acc')\n",
        "plt.legend()\n",
        "plt.show()\n",
        "plt.savefig('AccVal_acc')"
      ],
      "metadata": {
        "colab": {
          "base_uri": "https://localhost:8080/",
          "height": 450
        },
        "id": "o-H01DOIGPUZ",
        "outputId": "de8b6593-a078-4229-f2b6-93aec6bc3b63"
      },
      "execution_count": 24,
      "outputs": [
        {
          "output_type": "display_data",
          "data": {
            "text/plain": [
              "<Figure size 640x480 with 1 Axes>"
            ],
            "image/png": "[encoded data removed]"
          },
          "metadata": {}
        },
        {
          "output_type": "display_data",
          "data": {
            "text/plain": [
              "<Figure size 640x480 with 0 Axes>"
            ]
          },
          "metadata": {}
        }
      ]
    },
    {
      "cell_type": "code",
      "source": [
        "model.evaluate(test_set)"
      ],
      "metadata": {
        "colab": {
          "base_uri": "https://localhost:8080/"
        },
        "id": "4RoSQloNHXgY",
        "outputId": "5b4dee53-0e54-4899-b643-ee034e771f2b"
      },
      "execution_count": 25,
      "outputs": [
        {
          "output_type": "stream",
          "name": "stdout",
          "text": [
            "\u001b[1m1/1\u001b[0m \u001b[32m━━━━━━━━━━━━━━━━━━━━\u001b[0m\u001b[37m\u001b[0m \u001b[1m0s\u001b[0m 317ms/step - accuracy: 0.5357 - loss: 1.7042\n"
          ]
        },
        {
          "output_type": "execute_result",
          "data": {
            "text/plain": [
              "[1.7042001485824585, 0.5357142686843872]"
            ]
          },
          "metadata": {},
          "execution_count": 25
        }
      ]
    },
    {
      "cell_type": "code",
      "source": [
        "from tensorflow.keras.models import load_model\n",
        "\n",
        "model.save('model_vgg16.h5')"
      ],
      "metadata": {
        "colab": {
          "base_uri": "https://localhost:8080/"
        },
        "id": "7ZFkoBjRHXd4",
        "outputId": "96dbc2fd-ba0f-4dc6-fe32-29a9e4de913e"
      },
      "execution_count": 26,
      "outputs": [
        {
          "output_type": "stream",
          "name": "stderr",
          "text": [
            "WARNING:absl:You are saving your model as an HDF5 file via `model.save()` or `keras.saving.save_model(model)`. This file format is considered legacy. We recommend using instead the native Keras format, e.g. `model.save('my_model.keras')` or `keras.saving.save_model(model, 'my_model.keras')`. \n"
          ]
        }
      ]
    },
    {
      "cell_type": "code",
      "source": [
        "model = load_model(\"model_vgg16.h5\")"
      ],
      "metadata": {
        "colab": {
          "base_uri": "https://localhost:8080/"
        },
        "id": "oNWh3uboHXbQ",
        "outputId": "9311e582-e6e7-4a24-9270-7e1d3b7e5d33"
      },
      "execution_count": 27,
      "outputs": [
        {
          "output_type": "stream",
          "name": "stderr",
          "text": [
            "WARNING:absl:Compiled the loaded model, but the compiled metrics have yet to be built. `model.compile_metrics` will be empty until you train or evaluate the model.\n"
          ]
        }
      ]
    },
    {
      "cell_type": "code",
      "source": [
        "from tensorflow.keras.preprocessing import image"
      ],
      "metadata": {
        "id": "AFBbjZ_sHXX4"
      },
      "execution_count": 28,
      "outputs": []
    },
    {
      "cell_type": "code",
      "source": [
        "img = \"/content/Bones-data/train/Spiral Fracture/A-Radiograph-shows-a-spiral-fracture-of-humeral-diaphyseal-segment-AO-cl-12A1-B-Good_png.rf.6ba5de62185d0377399671c1e6d1fb0d.jpg\""
      ],
      "metadata": {
        "id": "7RIC5s2oOCxq"
      },
      "execution_count": 29,
      "outputs": []
    },
    {
      "cell_type": "code",
      "source": [
        "img=image.load_img(img,target_size=(224,224))"
      ],
      "metadata": {
        "id": "_8tAFIUDHtwo"
      },
      "execution_count": 30,
      "outputs": []
    },
    {
      "cell_type": "code",
      "source": [
        "img"
      ],
      "metadata": {
        "colab": {
          "base_uri": "https://localhost:8080/",
          "height": 241
        },
        "id": "OS08bGmMHtuI",
        "outputId": "46a2cfad-4306-48e4-92b0-9e4da2d97ac6"
      },
      "execution_count": 31,
      "outputs": [
        {
          "output_type": "execute_result",
          "data": {
            "text/plain": [
              "<PIL.Image.Image image mode=RGB size=224x224>"
            ],
            "image/png": "[encoded data removed]",
            "image/jpeg": "[encoded data removed]"
          },
          "metadata": {},
          "execution_count": 31
        }
      ]
    },
    {
      "cell_type": "code",
      "source": [
        "x=image.img_to_array(img)\n",
        "x"
      ],
      "metadata": {
        "colab": {
          "base_uri": "https://localhost:8080/"
        },
        "id": "mDxB34vlIN3o",
        "outputId": "ee89533f-13f4-430e-8fc2-7d4ed3dda91b"
      },
      "execution_count": 33,
      "outputs": [
        {
          "output_type": "execute_result",
          "data": {
            "text/plain": [
              "array([[[255., 255., 255.],\n",
              "        [252., 252., 252.],\n",
              "        [255., 255., 255.],\n",
              "        ...,\n",
              "        [255., 255., 255.],\n",
              "        [255., 255., 255.],\n",
              "        [255., 255., 255.]],\n",
              "\n",
              "       [[159., 159., 159.],\n",
              "        [154., 154., 154.],\n",
              "        [159., 159., 159.],\n",
              "        ...,\n",
              "        [ 59.,  59.,  59.],\n",
              "        [ 59.,  59.,  59.],\n",
              "        [ 58.,  58.,  58.]],\n",
              "\n",
              "       [[148., 148., 148.],\n",
              "        [142., 142., 142.],\n",
              "        [146., 146., 146.],\n",
              "        ...,\n",
              "        [ 29.,  29.,  29.],\n",
              "        [ 30.,  30.,  30.],\n",
              "        [ 31.,  31.,  31.]],\n",
              "\n",
              "       ...,\n",
              "\n",
              "       [[219., 219., 219.],\n",
              "        [218., 218., 218.],\n",
              "        [219., 219., 219.],\n",
              "        ...,\n",
              "        [ 26.,  26.,  26.],\n",
              "        [ 26.,  26.,  26.],\n",
              "        [ 26.,  26.,  26.]],\n",
              "\n",
              "       [[219., 219., 219.],\n",
              "        [218., 218., 218.],\n",
              "        [218., 218., 218.],\n",
              "        ...,\n",
              "        [ 26.,  26.,  26.],\n",
              "        [ 26.,  26.,  26.],\n",
              "        [ 26.,  26.,  26.]],\n",
              "\n",
              "       [[219., 219., 219.],\n",
              "        [218., 218., 218.],\n",
              "        [218., 218., 218.],\n",
              "        ...,\n",
              "        [ 26.,  26.,  26.],\n",
              "        [ 26.,  26.,  26.],\n",
              "        [ 26.,  26.,  26.]]], dtype=float32)"
            ]
          },
          "metadata": {},
          "execution_count": 33
        }
      ]
    },
    {
      "cell_type": "code",
      "source": [
        "Z = plt.imread('/content/Bones-data/test/Oblique fracture/10-1055-b-002-85516_c023_f003-1_jpg.rf.a2cb46deb0263fc9290f45ee328c632.jpg')\n",
        "plt.imshow(Z)"
      ],
      "metadata": {
        "colab": {
          "base_uri": "https://localhost:8080/",
          "height": 452
        },
        "id": "SgFs8twTISJJ",
        "outputId": "d07068b0-6dae-432a-ce4f-a47fcad1dc52"
      },
      "execution_count": 34,
      "outputs": [
        {
          "output_type": "execute_result",
          "data": {
            "text/plain": [
              "<matplotlib.image.AxesImage at 0x792ed5aca050>"
            ]
          },
          "metadata": {},
          "execution_count": 34
        },
        {
          "output_type": "display_data",
          "data": {
            "text/plain": [
              "<Figure size 640x480 with 1 Axes>"
            ],
            "image/png": "[encoded data removed]"
          },
          "metadata": {}
        }
      ]
    },
    {
      "cell_type": "code",
      "source": [
        "x.shape"
      ],
      "metadata": {
        "colab": {
          "base_uri": "https://localhost:8080/"
        },
        "id": "2qK5PnLaISHA",
        "outputId": "22d9f57f-3a9f-4410-b57f-eb2b9d9fc208"
      },
      "execution_count": 35,
      "outputs": [
        {
          "output_type": "execute_result",
          "data": {
            "text/plain": [
              "(224, 224, 3)"
            ]
          },
          "metadata": {},
          "execution_count": 35
        }
      ]
    },
    {
      "cell_type": "code",
      "source": [
        "x=x/255"
      ],
      "metadata": {
        "id": "tt9TXNwbIW0A"
      },
      "execution_count": 36,
      "outputs": []
    },
    {
      "cell_type": "code",
      "source": [
        "from keras.applications.vgg16 import preprocess_input\n",
        "import numpy as np\n",
        "x=np.expand_dims(x,axis=0)\n",
        "img_data=preprocess_input(x)"
      ],
      "metadata": {
        "id": "u6OAkgdWIWyI"
      },
      "execution_count": 37,
      "outputs": []
    },
    {
      "cell_type": "code",
      "source": [
        "output = model.predict(img_data)\n",
        "output"
      ],
      "metadata": {
        "colab": {
          "base_uri": "https://localhost:8080/"
        },
        "id": "nV0lpD06IWvQ",
        "outputId": "0b64f5d3-fd13-4502-d9f0-97486d59df10"
      },
      "execution_count": 38,
      "outputs": [
        {
          "output_type": "stream",
          "name": "stdout",
          "text": [
            "\u001b[1m1/1\u001b[0m \u001b[32m━━━━━━━━━━━━━━━━━━━━\u001b[0m\u001b[37m\u001b[0m \u001b[1m2s\u001b[0m 2s/step\n"
          ]
        },
        {
          "output_type": "execute_result",
          "data": {
            "text/plain": [
              "array([[6.322261e-04, 9.993678e-01]], dtype=float32)"
            ]
          },
          "metadata": {},
          "execution_count": 38
        }
      ]
    },
    {
      "cell_type": "code",
      "source": [
        "result = np.argmax(output, axis=1)\n",
        "result"
      ],
      "metadata": {
        "colab": {
          "base_uri": "https://localhost:8080/"
        },
        "id": "OV_WgmR0I-oQ",
        "outputId": "bcc0c7f6-c2fb-4fc8-82ec-e01c1663aa59"
      },
      "execution_count": 39,
      "outputs": [
        {
          "output_type": "execute_result",
          "data": {
            "text/plain": [
              "array([1])"
            ]
          },
          "metadata": {},
          "execution_count": 39
        }
      ]
    },
    {
      "cell_type": "code",
      "source": [
        "if result[0] == 0:\n",
        "    prediction = 'Oblique fracture'\n",
        "    print(prediction)\n",
        "else:\n",
        "    prediction = 'Spiral Fracture'\n",
        "    print(prediction)"
      ],
      "metadata": {
        "colab": {
          "base_uri": "https://localhost:8080/"
        },
        "id": "bSI58mbuIqLY",
        "outputId": "b998ba0c-4192-48e8-c12c-92a707305db0"
      },
      "execution_count": 40,
      "outputs": [
        {
          "output_type": "stream",
          "name": "stdout",
          "text": [
            "Spiral Fracture\n"
          ]
        }
      ]
    },
    {
      "cell_type": "code",
      "source": [],
      "metadata": {
        "id": "vxPkTB3COMhR"
      },
      "execution_count": null,
      "outputs": []
    }
  ]
}